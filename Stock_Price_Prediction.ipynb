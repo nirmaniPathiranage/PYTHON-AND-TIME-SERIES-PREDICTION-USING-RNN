{
  "nbformat": 4,
  "nbformat_minor": 0,
  "metadata": {
    "colab": {
      "name": "Stock Price Prediction.ipynb",
      "provenance": [],
      "collapsed_sections": []
    },
    "kernelspec": {
      "name": "python3",
      "display_name": "Python 3"
    },
    "language_info": {
      "name": "python"
    }
  },
  "cells": [
    {
      "cell_type": "code",
      "metadata": {
        "id": "2NNbH2YuE4Fy"
      },
      "source": [
        "import numpy as np\n",
        "import pandas as pd # alias"
      ],
      "execution_count": 147,
      "outputs": []
    },
    {
      "cell_type": "code",
      "metadata": {
        "id": "PJpw7WAAFT4m"
      },
      "source": [
        "# Reading Dataset\n",
        "\n",
        "path = \"/content/Uniqlo(FastRetailing) 2012-2016 Training - stocks2012-2016.csv\"\n",
        "df = pd.read_csv(path)"
      ],
      "execution_count": 148,
      "outputs": []
    },
    {
      "cell_type": "code",
      "metadata": {
        "colab": {
          "base_uri": "https://localhost:8080/",
          "height": 203
        },
        "id": "ts_HBJwjGzcz",
        "outputId": "f1cb0fed-d37c-4265-bcf4-06acd68af186"
      },
      "source": [
        "# head shows the first few rows (by default 5) of the dataframe\n",
        "df.head()"
      ],
      "execution_count": 149,
      "outputs": [
        {
          "output_type": "execute_result",
          "data": {
            "text/html": [
              "<div>\n",
              "<style scoped>\n",
              "    .dataframe tbody tr th:only-of-type {\n",
              "        vertical-align: middle;\n",
              "    }\n",
              "\n",
              "    .dataframe tbody tr th {\n",
              "        vertical-align: top;\n",
              "    }\n",
              "\n",
              "    .dataframe thead th {\n",
              "        text-align: right;\n",
              "    }\n",
              "</style>\n",
              "<table border=\"1\" class=\"dataframe\">\n",
              "  <thead>\n",
              "    <tr style=\"text-align: right;\">\n",
              "      <th></th>\n",
              "      <th>Date</th>\n",
              "      <th>Open</th>\n",
              "      <th>High</th>\n",
              "      <th>Low</th>\n",
              "      <th>Close</th>\n",
              "      <th>Volume</th>\n",
              "      <th>Stock Trading</th>\n",
              "    </tr>\n",
              "  </thead>\n",
              "  <tbody>\n",
              "    <tr>\n",
              "      <th>0</th>\n",
              "      <td>2016-12-30</td>\n",
              "      <td>42120</td>\n",
              "      <td>42330</td>\n",
              "      <td>41700</td>\n",
              "      <td>41830</td>\n",
              "      <td>610000</td>\n",
              "      <td>25628028000</td>\n",
              "    </tr>\n",
              "    <tr>\n",
              "      <th>1</th>\n",
              "      <td>2016-12-29</td>\n",
              "      <td>43000</td>\n",
              "      <td>43220</td>\n",
              "      <td>42540</td>\n",
              "      <td>42660</td>\n",
              "      <td>448400</td>\n",
              "      <td>19188227000</td>\n",
              "    </tr>\n",
              "    <tr>\n",
              "      <th>2</th>\n",
              "      <td>2016-12-28</td>\n",
              "      <td>43940</td>\n",
              "      <td>43970</td>\n",
              "      <td>43270</td>\n",
              "      <td>43270</td>\n",
              "      <td>339900</td>\n",
              "      <td>14780670000</td>\n",
              "    </tr>\n",
              "    <tr>\n",
              "      <th>3</th>\n",
              "      <td>2016-12-27</td>\n",
              "      <td>43140</td>\n",
              "      <td>43700</td>\n",
              "      <td>43140</td>\n",
              "      <td>43620</td>\n",
              "      <td>400100</td>\n",
              "      <td>17427993000</td>\n",
              "    </tr>\n",
              "    <tr>\n",
              "      <th>4</th>\n",
              "      <td>2016-12-26</td>\n",
              "      <td>43310</td>\n",
              "      <td>43660</td>\n",
              "      <td>43090</td>\n",
              "      <td>43340</td>\n",
              "      <td>358200</td>\n",
              "      <td>15547803000</td>\n",
              "    </tr>\n",
              "  </tbody>\n",
              "</table>\n",
              "</div>"
            ],
            "text/plain": [
              "         Date   Open   High    Low  Close  Volume  Stock Trading\n",
              "0  2016-12-30  42120  42330  41700  41830  610000    25628028000\n",
              "1  2016-12-29  43000  43220  42540  42660  448400    19188227000\n",
              "2  2016-12-28  43940  43970  43270  43270  339900    14780670000\n",
              "3  2016-12-27  43140  43700  43140  43620  400100    17427993000\n",
              "4  2016-12-26  43310  43660  43090  43340  358200    15547803000"
            ]
          },
          "metadata": {},
          "execution_count": 149
        }
      ]
    },
    {
      "cell_type": "code",
      "metadata": {
        "colab": {
          "base_uri": "https://localhost:8080/",
          "height": 142
        },
        "id": "cETZchAHHLlh",
        "outputId": "7c0352a9-0394-4697-a831-68e394ca39ea"
      },
      "source": [
        "df.head(3)"
      ],
      "execution_count": 150,
      "outputs": [
        {
          "output_type": "execute_result",
          "data": {
            "text/html": [
              "<div>\n",
              "<style scoped>\n",
              "    .dataframe tbody tr th:only-of-type {\n",
              "        vertical-align: middle;\n",
              "    }\n",
              "\n",
              "    .dataframe tbody tr th {\n",
              "        vertical-align: top;\n",
              "    }\n",
              "\n",
              "    .dataframe thead th {\n",
              "        text-align: right;\n",
              "    }\n",
              "</style>\n",
              "<table border=\"1\" class=\"dataframe\">\n",
              "  <thead>\n",
              "    <tr style=\"text-align: right;\">\n",
              "      <th></th>\n",
              "      <th>Date</th>\n",
              "      <th>Open</th>\n",
              "      <th>High</th>\n",
              "      <th>Low</th>\n",
              "      <th>Close</th>\n",
              "      <th>Volume</th>\n",
              "      <th>Stock Trading</th>\n",
              "    </tr>\n",
              "  </thead>\n",
              "  <tbody>\n",
              "    <tr>\n",
              "      <th>0</th>\n",
              "      <td>2016-12-30</td>\n",
              "      <td>42120</td>\n",
              "      <td>42330</td>\n",
              "      <td>41700</td>\n",
              "      <td>41830</td>\n",
              "      <td>610000</td>\n",
              "      <td>25628028000</td>\n",
              "    </tr>\n",
              "    <tr>\n",
              "      <th>1</th>\n",
              "      <td>2016-12-29</td>\n",
              "      <td>43000</td>\n",
              "      <td>43220</td>\n",
              "      <td>42540</td>\n",
              "      <td>42660</td>\n",
              "      <td>448400</td>\n",
              "      <td>19188227000</td>\n",
              "    </tr>\n",
              "    <tr>\n",
              "      <th>2</th>\n",
              "      <td>2016-12-28</td>\n",
              "      <td>43940</td>\n",
              "      <td>43970</td>\n",
              "      <td>43270</td>\n",
              "      <td>43270</td>\n",
              "      <td>339900</td>\n",
              "      <td>14780670000</td>\n",
              "    </tr>\n",
              "  </tbody>\n",
              "</table>\n",
              "</div>"
            ],
            "text/plain": [
              "         Date   Open   High    Low  Close  Volume  Stock Trading\n",
              "0  2016-12-30  42120  42330  41700  41830  610000    25628028000\n",
              "1  2016-12-29  43000  43220  42540  42660  448400    19188227000\n",
              "2  2016-12-28  43940  43970  43270  43270  339900    14780670000"
            ]
          },
          "metadata": {},
          "execution_count": 150
        }
      ]
    },
    {
      "cell_type": "code",
      "metadata": {
        "colab": {
          "base_uri": "https://localhost:8080/",
          "height": 142
        },
        "id": "7OrmFmTZHOpJ",
        "outputId": "b8fad42c-04e5-4bf6-8d7c-962959ab960d"
      },
      "source": [
        "# tail shows the last few rows (by default 5) of the Dataframe\n",
        "df.tail(3)"
      ],
      "execution_count": 151,
      "outputs": [
        {
          "output_type": "execute_result",
          "data": {
            "text/html": [
              "<div>\n",
              "<style scoped>\n",
              "    .dataframe tbody tr th:only-of-type {\n",
              "        vertical-align: middle;\n",
              "    }\n",
              "\n",
              "    .dataframe tbody tr th {\n",
              "        vertical-align: top;\n",
              "    }\n",
              "\n",
              "    .dataframe thead th {\n",
              "        text-align: right;\n",
              "    }\n",
              "</style>\n",
              "<table border=\"1\" class=\"dataframe\">\n",
              "  <thead>\n",
              "    <tr style=\"text-align: right;\">\n",
              "      <th></th>\n",
              "      <th>Date</th>\n",
              "      <th>Open</th>\n",
              "      <th>High</th>\n",
              "      <th>Low</th>\n",
              "      <th>Close</th>\n",
              "      <th>Volume</th>\n",
              "      <th>Stock Trading</th>\n",
              "    </tr>\n",
              "  </thead>\n",
              "  <tbody>\n",
              "    <tr>\n",
              "      <th>1223</th>\n",
              "      <td>2012-01-06</td>\n",
              "      <td>13990</td>\n",
              "      <td>14030</td>\n",
              "      <td>13790</td>\n",
              "      <td>13850</td>\n",
              "      <td>765500</td>\n",
              "      <td>10635609000</td>\n",
              "    </tr>\n",
              "    <tr>\n",
              "      <th>1224</th>\n",
              "      <td>2012-01-05</td>\n",
              "      <td>13720</td>\n",
              "      <td>13840</td>\n",
              "      <td>13600</td>\n",
              "      <td>13800</td>\n",
              "      <td>511500</td>\n",
              "      <td>7030811000</td>\n",
              "    </tr>\n",
              "    <tr>\n",
              "      <th>1225</th>\n",
              "      <td>2012-01-04</td>\n",
              "      <td>14050</td>\n",
              "      <td>14050</td>\n",
              "      <td>13700</td>\n",
              "      <td>13720</td>\n",
              "      <td>559100</td>\n",
              "      <td>7719804000</td>\n",
              "    </tr>\n",
              "  </tbody>\n",
              "</table>\n",
              "</div>"
            ],
            "text/plain": [
              "            Date   Open   High    Low  Close  Volume  Stock Trading\n",
              "1223  2012-01-06  13990  14030  13790  13850  765500    10635609000\n",
              "1224  2012-01-05  13720  13840  13600  13800  511500     7030811000\n",
              "1225  2012-01-04  14050  14050  13700  13720  559100     7719804000"
            ]
          },
          "metadata": {},
          "execution_count": 151
        }
      ]
    },
    {
      "cell_type": "code",
      "metadata": {
        "colab": {
          "base_uri": "https://localhost:8080/"
        },
        "id": "0C105bLWHdnU",
        "outputId": "c1670c46-6919-4a08-9733-e289d7fb4373"
      },
      "source": [
        "df = df['Open']\n",
        "df.head()"
      ],
      "execution_count": 152,
      "outputs": [
        {
          "output_type": "execute_result",
          "data": {
            "text/plain": [
              "0    42120\n",
              "1    43000\n",
              "2    43940\n",
              "3    43140\n",
              "4    43310\n",
              "Name: Open, dtype: int64"
            ]
          },
          "metadata": {},
          "execution_count": 152
        }
      ]
    },
    {
      "cell_type": "code",
      "metadata": {
        "id": "tzQ6QYPgHpgj"
      },
      "source": [
        "# Plotting the time series\n",
        "\n",
        "# Creating a function to plot the time series\n",
        "\n",
        "import matplotlib.pyplot as plt\n",
        "\n",
        "def plot_series(data):\n",
        "\n",
        "  for df in data:\n",
        "    plt.plot(df)\n",
        "  plt.show()"
      ],
      "execution_count": 153,
      "outputs": []
    },
    {
      "cell_type": "code",
      "metadata": {
        "id": "9GBUIXP3JCHm"
      },
      "source": [
        "# Splitting the dataset in Test and Train set\n",
        "\n",
        "train = df[:int(0.8*len(df))]\n",
        "test = df[int(0.8*len(df)):]"
      ],
      "execution_count": 154,
      "outputs": []
    },
    {
      "cell_type": "code",
      "metadata": {
        "id": "l0liLttqJcJw"
      },
      "source": [
        "# Reshaping the data into the required form to be fed into the RNN\n",
        "\n",
        "def arrange(data, window=10):\n",
        "  x = []\n",
        "  y = []\n",
        "\n",
        "  # Loop through the data\n",
        "  for i, val in enumerate(data):\n",
        "    if i<window:\n",
        "      # if there are not enough number of records avaulable in the past, then continue\n",
        "      continue  \n",
        "    x.append(data[i-window: i-1].values.reshape(-1, 1))\n",
        "    y.append(data[i:i+1].values.reshape(-1,1))\n",
        "\n",
        "  # convert the list into numpy array\n",
        "  # NOTE: It's not a necessary step, but, it's generally used as numpy array do the computations faster than the python\n",
        "  x = np.asarray(x)\n",
        "  y = np.asarray(y)\n",
        "\n",
        "  return x,y\n"
      ],
      "execution_count": 155,
      "outputs": []
    },
    {
      "cell_type": "code",
      "metadata": {
        "colab": {
          "base_uri": "https://localhost:8080/"
        },
        "id": "sNAHBbJcK_cD",
        "outputId": "5aa14596-cf5e-4343-90c2-c33045506d58"
      },
      "source": [
        "X_train, y_train = arrange(train, 15)\n",
        "\n",
        "print(\"x-shape is: {} and y-shape is: {}\".format(X_train.shape, y_train.shape))"
      ],
      "execution_count": 156,
      "outputs": [
        {
          "output_type": "stream",
          "name": "stdout",
          "text": [
            "x-shape is: (965, 14, 1) and y-shape is: (965, 1, 1)\n"
          ]
        }
      ]
    },
    {
      "cell_type": "code",
      "metadata": {
        "colab": {
          "base_uri": "https://localhost:8080/"
        },
        "id": "to9Cp1dUNo8p",
        "outputId": "00624ec5-8774-488d-dd28-deb12fa34ae3"
      },
      "source": [
        "# Let's see how a data point looks like\n",
        "print(X_train[0])\n",
        "print(y_train[0])"
      ],
      "execution_count": 157,
      "outputs": [
        {
          "output_type": "stream",
          "name": "stdout",
          "text": [
            "[[42120]\n",
            " [43000]\n",
            " [43940]\n",
            " [43140]\n",
            " [43310]\n",
            " [43660]\n",
            " [43900]\n",
            " [42910]\n",
            " [42790]\n",
            " [43350]\n",
            " [43440]\n",
            " [43300]\n",
            " [43130]\n",
            " [43950]]\n",
            "[[41480]]\n"
          ]
        }
      ]
    },
    {
      "cell_type": "code",
      "metadata": {
        "id": "oDEs25B-N2Fm"
      },
      "source": [
        "# Building the Model\n",
        "\n",
        "import tensorflow as tf\n",
        "from tensorflow import keras\n",
        "from keras.models import Sequential\n",
        "from keras.layers import SimpleRNN, Dense, Input"
      ],
      "execution_count": 158,
      "outputs": []
    },
    {
      "cell_type": "code",
      "metadata": {
        "colab": {
          "base_uri": "https://localhost:8080/"
        },
        "id": "hu4IaA9BOTc1",
        "outputId": "e1be62e5-ad7c-4243-8607-3f161c619419"
      },
      "source": [
        "Net = Sequential()\n",
        "Net.add(SimpleRNN(3, activation='relu', input_shape = X_train.shape[1:]))\n",
        "Net.add(Dense(1, activation='relu'))\n",
        "\n",
        "Net.summary()"
      ],
      "execution_count": 159,
      "outputs": [
        {
          "output_type": "stream",
          "name": "stdout",
          "text": [
            "Model: \"sequential_6\"\n",
            "_________________________________________________________________\n",
            "Layer (type)                 Output Shape              Param #   \n",
            "=================================================================\n",
            "simple_rnn_6 (SimpleRNN)     (None, 3)                 15        \n",
            "_________________________________________________________________\n",
            "dense_6 (Dense)              (None, 1)                 4         \n",
            "=================================================================\n",
            "Total params: 19\n",
            "Trainable params: 19\n",
            "Non-trainable params: 0\n",
            "_________________________________________________________________\n"
          ]
        }
      ]
    },
    {
      "cell_type": "code",
      "metadata": {
        "colab": {
          "base_uri": "https://localhost:8080/"
        },
        "id": "cHz3D73HPpGh",
        "outputId": "f588b8ba-9366-445c-f46e-92caea1f038d"
      },
      "source": [
        "Net.compile(loss = 'mean_squared_error', optimizer='adam', metrics=['mse'])\n",
        "\n",
        "Net.fit(X_train, y_train, epochs=10)"
      ],
      "execution_count": 160,
      "outputs": [
        {
          "output_type": "stream",
          "name": "stdout",
          "text": [
            "Epoch 1/10\n",
            "31/31 [==============================] - 1s 2ms/step - loss: 1107745280.0000 - mse: 1107745280.0000\n",
            "Epoch 2/10\n",
            "31/31 [==============================] - 0s 2ms/step - loss: 1005774848.0000 - mse: 1005774848.0000\n",
            "Epoch 3/10\n",
            "31/31 [==============================] - 0s 2ms/step - loss: 889432384.0000 - mse: 889432384.0000\n",
            "Epoch 4/10\n",
            "31/31 [==============================] - 0s 2ms/step - loss: 762796800.0000 - mse: 762796800.0000\n",
            "Epoch 5/10\n",
            "31/31 [==============================] - 0s 2ms/step - loss: 634575360.0000 - mse: 634575360.0000\n",
            "Epoch 6/10\n",
            "31/31 [==============================] - 0s 2ms/step - loss: 508414528.0000 - mse: 508414528.0000\n",
            "Epoch 7/10\n",
            "31/31 [==============================] - 0s 3ms/step - loss: 281950816.0000 - mse: 281950816.0000\n",
            "Epoch 8/10\n",
            "31/31 [==============================] - 0s 2ms/step - loss: 15593528.0000 - mse: 15593528.0000\n",
            "Epoch 9/10\n",
            "31/31 [==============================] - 0s 2ms/step - loss: 8538317.0000 - mse: 8538317.0000\n",
            "Epoch 10/10\n",
            "31/31 [==============================] - 0s 2ms/step - loss: 8167337.0000 - mse: 8167337.0000\n"
          ]
        },
        {
          "output_type": "execute_result",
          "data": {
            "text/plain": [
              "<keras.callbacks.History at 0x7f25676acf50>"
            ]
          },
          "metadata": {},
          "execution_count": 160
        }
      ]
    },
    {
      "cell_type": "code",
      "metadata": {
        "colab": {
          "base_uri": "https://localhost:8080/"
        },
        "id": "gtrKNYq2QNN8",
        "outputId": "1c8eb51e-24cc-42d6-c2f3-e7f3fd3f2812"
      },
      "source": [
        "X_test, y_test = arrange(test, 15)\n",
        "pred = Net.predict(X_test)\n",
        "pred"
      ],
      "execution_count": 161,
      "outputs": [
        {
          "output_type": "execute_result",
          "data": {
            "text/plain": [
              "array([[20315.045 ],\n",
              "       [19965.3   ],\n",
              "       [19623.406 ],\n",
              "       [20121.066 ],\n",
              "       [20383.963 ],\n",
              "       [19819.84  ],\n",
              "       [19252.752 ],\n",
              "       [19448.    ],\n",
              "       [19422.014 ],\n",
              "       [18871.332 ],\n",
              "       [18634.08  ],\n",
              "       [18739.453 ],\n",
              "       [18606.12  ],\n",
              "       [18251.969 ],\n",
              "       [18270.16  ],\n",
              "       [18094.85  ],\n",
              "       [17943.697 ],\n",
              "       [18114.861 ],\n",
              "       [17925.418 ],\n",
              "       [17552.402 ],\n",
              "       [17710.418 ],\n",
              "       [17825.025 ],\n",
              "       [17358.652 ],\n",
              "       [17020.4   ],\n",
              "       [17433.086 ],\n",
              "       [17443.293 ],\n",
              "       [16940.125 ],\n",
              "       [16801.635 ],\n",
              "       [17118.295 ],\n",
              "       [17124.818 ],\n",
              "       [16784.797 ],\n",
              "       [16666.219 ],\n",
              "       [17259.955 ],\n",
              "       [17377.53  ],\n",
              "       [17035.416 ],\n",
              "       [16962.434 ],\n",
              "       [17118.508 ],\n",
              "       [17287.793 ],\n",
              "       [17209.717 ],\n",
              "       [17410.424 ],\n",
              "       [17982.674 ],\n",
              "       [17785.467 ],\n",
              "       [17176.732 ],\n",
              "       [17081.26  ],\n",
              "       [17190.031 ],\n",
              "       [17027.588 ],\n",
              "       [16677.074 ],\n",
              "       [16881.932 ],\n",
              "       [17065.883 ],\n",
              "       [16444.229 ],\n",
              "       [16351.963 ],\n",
              "       [17378.395 ],\n",
              "       [17948.104 ],\n",
              "       [17957.23  ],\n",
              "       [18007.184 ],\n",
              "       [17976.885 ],\n",
              "       [18117.57  ],\n",
              "       [18038.912 ],\n",
              "       [17647.863 ],\n",
              "       [17615.256 ],\n",
              "       [18069.613 ],\n",
              "       [18328.686 ],\n",
              "       [17900.125 ],\n",
              "       [17432.473 ],\n",
              "       [17962.82  ],\n",
              "       [18374.756 ],\n",
              "       [17763.727 ],\n",
              "       [17603.393 ],\n",
              "       [18184.479 ],\n",
              "       [18541.223 ],\n",
              "       [18251.293 ],\n",
              "       [17632.564 ],\n",
              "       [17773.518 ],\n",
              "       [18256.154 ],\n",
              "       [17848.69  ],\n",
              "       [17522.137 ],\n",
              "       [17967.098 ],\n",
              "       [18194.307 ],\n",
              "       [17634.291 ],\n",
              "       [17689.016 ],\n",
              "       [18103.621 ],\n",
              "       [18097.262 ],\n",
              "       [17880.348 ],\n",
              "       [17709.646 ],\n",
              "       [17650.059 ],\n",
              "       [17454.143 ],\n",
              "       [17376.564 ],\n",
              "       [17150.951 ],\n",
              "       [17314.445 ],\n",
              "       [17278.785 ],\n",
              "       [16980.842 ],\n",
              "       [16735.844 ],\n",
              "       [16752.963 ],\n",
              "       [16862.27  ],\n",
              "       [16577.395 ],\n",
              "       [16486.678 ],\n",
              "       [16705.473 ],\n",
              "       [16366.592 ],\n",
              "       [15646.774 ],\n",
              "       [16029.627 ],\n",
              "       [15906.98  ],\n",
              "       [15370.678 ],\n",
              "       [15728.085 ],\n",
              "       [16014.68  ],\n",
              "       [15634.483 ],\n",
              "       [15268.621 ],\n",
              "       [15779.157 ],\n",
              "       [16079.499 ],\n",
              "       [15541.373 ],\n",
              "       [15328.935 ],\n",
              "       [16195.193 ],\n",
              "       [15797.137 ],\n",
              "       [15155.363 ],\n",
              "       [15161.203 ],\n",
              "       [15189.97  ],\n",
              "       [15278.493 ],\n",
              "       [15234.736 ],\n",
              "       [15335.504 ],\n",
              "       [15445.467 ],\n",
              "       [15603.921 ],\n",
              "       [15705.035 ],\n",
              "       [15551.842 ],\n",
              "       [15139.654 ],\n",
              "       [15555.931 ],\n",
              "       [15660.424 ],\n",
              "       [15290.627 ],\n",
              "       [15169.919 ],\n",
              "       [15544.673 ],\n",
              "       [15414.983 ],\n",
              "       [15523.968 ],\n",
              "       [15970.032 ],\n",
              "       [16099.327 ],\n",
              "       [15705.278 ],\n",
              "       [15790.958 ],\n",
              "       [16008.32  ],\n",
              "       [15655.874 ],\n",
              "       [15352.619 ],\n",
              "       [15748.291 ],\n",
              "       [16624.402 ],\n",
              "       [16445.445 ],\n",
              "       [16272.73  ],\n",
              "       [16562.7   ],\n",
              "       [17296.57  ],\n",
              "       [17494.748 ],\n",
              "       [16967.746 ],\n",
              "       [16769.135 ],\n",
              "       [17325.377 ],\n",
              "       [17331.834 ],\n",
              "       [16666.129 ],\n",
              "       [16376.459 ],\n",
              "       [16740.613 ],\n",
              "       [17462.336 ],\n",
              "       [17051.275 ],\n",
              "       [16456.1   ],\n",
              "       [16633.521 ],\n",
              "       [17255.6   ],\n",
              "       [17039.637 ],\n",
              "       [16711.057 ],\n",
              "       [16966.457 ],\n",
              "       [17387.107 ],\n",
              "       [17409.56  ],\n",
              "       [16981.498 ],\n",
              "       [17517.28  ],\n",
              "       [17590.293 ],\n",
              "       [17166.908 ],\n",
              "       [17528.023 ],\n",
              "       [18074.14  ],\n",
              "       [17711.39  ],\n",
              "       [17522.691 ],\n",
              "       [17965.129 ],\n",
              "       [18847.1   ],\n",
              "       [18905.365 ],\n",
              "       [17956.764 ],\n",
              "       [18157.396 ],\n",
              "       [18620.645 ],\n",
              "       [18070.64  ],\n",
              "       [17345.969 ],\n",
              "       [17164.457 ],\n",
              "       [17509.092 ],\n",
              "       [17767.447 ],\n",
              "       [17346.186 ],\n",
              "       [17590.744 ],\n",
              "       [18418.555 ],\n",
              "       [18653.168 ],\n",
              "       [18351.125 ],\n",
              "       [17904.434 ],\n",
              "       [18060.492 ],\n",
              "       [18158.727 ],\n",
              "       [17516.693 ],\n",
              "       [17249.744 ],\n",
              "       [17900.586 ],\n",
              "       [17750.111 ],\n",
              "       [17074.115 ],\n",
              "       [17048.28  ],\n",
              "       [17662.318 ],\n",
              "       [17649.754 ],\n",
              "       [17099.727 ],\n",
              "       [17291.852 ],\n",
              "       [17530.213 ],\n",
              "       [16891.17  ],\n",
              "       [16510.46  ],\n",
              "       [17023.22  ],\n",
              "       [16610.744 ],\n",
              "       [16205.577 ],\n",
              "       [16442.713 ],\n",
              "       [16588.568 ],\n",
              "       [16074.72  ],\n",
              "       [16017.734 ],\n",
              "       [16431.553 ],\n",
              "       [16365.442 ],\n",
              "       [16000.884 ],\n",
              "       [15926.818 ],\n",
              "       [16248.014 ],\n",
              "       [15997.947 ],\n",
              "       [15675.549 ],\n",
              "       [15591.32  ],\n",
              "       [15508.6045],\n",
              "       [15178.716 ],\n",
              "       [15108.315 ],\n",
              "       [15518.252 ],\n",
              "       [15472.059 ],\n",
              "       [15141.947 ],\n",
              "       [15324.989 ],\n",
              "       [15485.062 ],\n",
              "       [15073.802 ],\n",
              "       [14609.176 ],\n",
              "       [14915.025 ],\n",
              "       [15194.848 ],\n",
              "       [14492.518 ],\n",
              "       [14256.319 ],\n",
              "       [14658.375 ]], dtype=float32)"
            ]
          },
          "metadata": {},
          "execution_count": 161
        }
      ]
    },
    {
      "cell_type": "code",
      "metadata": {
        "colab": {
          "base_uri": "https://localhost:8080/",
          "height": 265
        },
        "id": "qc8PZRlJQnm0",
        "outputId": "aa29e251-d8d0-4891-8959-6ebb2ebe017a"
      },
      "source": [
        "# Comparing predictions with the actual value using the plot\n",
        "plot_series([pred[:,0], y_test[:,:,0]])"
      ],
      "execution_count": 162,
      "outputs": [
        {
          "output_type": "display_data",
          "data": {
            "image/png": "[encoded data removed]",
            "text/plain": [
              "<Figure size 432x288 with 1 Axes>"
            ]
          },
          "metadata": {
            "needs_background": "light"
          }
        }
      ]
    }
  ]
}